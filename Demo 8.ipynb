{
 "cells": [
  {
   "cell_type": "code",
   "execution_count": 5,
   "id": "0f9c1eff",
   "metadata": {},
   "outputs": [
    {
     "name": "stdout",
     "output_type": "stream",
     "text": [
      "time.struct_time(tm_year=2023, tm_mon=12, tm_mday=3, tm_hour=10, tm_min=12, tm_sec=37, tm_wday=6, tm_yday=337, tm_isdst=0)\n"
     ]
    }
   ],
   "source": [
    "# 13.1 Write the current date as a string to the text file today.txt.\n",
    "import time\n",
    "t = time.localtime()\n",
    "print(t)\n",
    "\n",
    "file1 = open(\"today.txt\", \"w\")\n",
    "data1 = [t]\n",
    "\n",
    "file1.write(\"\")\n",
    "file1.writelines(str(data1))\n",
    "file1.close()\n"
   ]
  },
  {
   "cell_type": "code",
   "execution_count": 2,
   "id": "50d91bcf",
   "metadata": {},
   "outputs": [
    {
     "name": "stdout",
     "output_type": "stream",
     "text": [
      "2023-12-03\n"
     ]
    }
   ],
   "source": [
    "# 13.2 Read the text file today.txt into the string today_string.\n",
    "with open('today.txt', 'r') as file:\n",
    "    today_string = file.read()\n",
    "\n",
    "print(today_string)\n"
   ]
  },
  {
   "cell_type": "code",
   "execution_count": 3,
   "id": "c5d890e6",
   "metadata": {},
   "outputs": [
    {
     "name": "stdout",
     "output_type": "stream",
     "text": [
      "2023-12-03 00:00:00\n",
      "2023\n",
      "12\n",
      "3\n"
     ]
    }
   ],
   "source": [
    "# 13.3 Parse the date from today_string.\n",
    "from datetime import datetime\n",
    "\n",
    "# Assuming today_string contains a date in the format 'YYYY-MM-DD'\n",
    "today_string = \"2023-12-03\"  # Replace this with the actual content of your today.txt file\n",
    "\n",
    "# Parse the date string into a datetime object\n",
    "parsed_date = datetime.strptime(today_string, '%Y-%m-%d')\n",
    "\n",
    "# Now you can work with the parsed date\n",
    "print(parsed_date)\n",
    "print(parsed_date.year)\n",
    "print(parsed_date.month)\n",
    "print(parsed_date.day)\n"
   ]
  },
  {
   "cell_type": "code",
   "execution_count": 6,
   "id": "c29f9fba",
   "metadata": {},
   "outputs": [
    {
     "name": "stdout",
     "output_type": "stream",
     "text": [
      "---It took 0.7630 seconds to complete task---\n",
      "It's Sunday, December 03, 2023, local time 10:13:41.706816AM.\n",
      "---It took 0.2459 seconds to complete task---\n",
      "It's Sunday, December 03, 2023, local time 10:13:42.469796AM.\n",
      "---It took 0.2845 seconds to complete task---\n",
      "It's Sunday, December 03, 2023, local time 10:13:42.715647AM.\n",
      "Program successfully ended!\n"
     ]
    }
   ],
   "source": [
    "# 15.1 Use multiprocessing to create three separate processes. Make each one wait a random number of seconds between zero and one, print the current time, and then exit.\n",
    "import multiprocessing, datetime\n",
    "\n",
    "def get_time(name):\n",
    "    for num in range(3):\n",
    "        fmt = \"%A, %B %d, %Y, local time %I:%M:%S.%f%p\"\n",
    "        t = datetime.datetime.now()\n",
    "        dt = t.strftime(fmt)\n",
    "        \n",
    "        start_time = time.time()\n",
    "        time.sleep(random.uniform(0,1))\n",
    "        print(\"---It took {:0.4f}\".format(time.time() - start_time),\n",
    "              \"seconds to complete task---\")\n",
    "        print(\"It's {}.\".format(dt))\n",
    "        \n",
    "if __name__ == '__main__':\n",
    "    get_time(\"main\")\n",
    "    p = multiprocessing.Process(target=get_time)\n",
    "    p.start()\n",
    "    p.terminate()\n",
    "    print(\"Program successfully ended!\")"
   ]
  },
  {
   "cell_type": "code",
   "execution_count": null,
   "id": "4eed6487",
   "metadata": {},
   "outputs": [],
   "source": []
  }
 ],
 "metadata": {
  "kernelspec": {
   "display_name": "Python 3 (ipykernel)",
   "language": "python",
   "name": "python3"
  },
  "language_info": {
   "codemirror_mode": {
    "name": "ipython",
    "version": 3
   },
   "file_extension": ".py",
   "mimetype": "text/x-python",
   "name": "python",
   "nbconvert_exporter": "python",
   "pygments_lexer": "ipython3",
   "version": "3.11.5"
  }
 },
 "nbformat": 4,
 "nbformat_minor": 5
}
